{
 "cells": [
  {
   "cell_type": "code",
   "execution_count": 1,
   "metadata": {},
   "outputs": [],
   "source": [
    "import pandas as pd\n",
    "import seaborn as sns\n",
    "import sys,os,argparse\n",
    "from IPython.display import HTML\n",
    "import numpy as np \n",
    "from sklearn import preprocessing\n",
    "from numpy.linalg import matrix_rank\n",
    "import statsmodels.discrete.discrete_model as sm\n",
    "from statsmodels.api import add_constant\n",
    "from sklearn.tree import DecisionTreeClassifier\n",
    "from sklearn.ensemble import RandomForestClassifier\n",
    "from sklearn.linear_model import LogisticRegression\n",
    "import matplotlib.pyplot as plt\n",
    "from sklearn import metrics\n",
    "from statsmodels.regression.linear_model import OLS\n",
    "from statsmodels.tools.tools import add_constant\n",
    "from sklearn.preprocessing import StandardScaler\n",
    "from sklearn.feature_selection import chi2\n",
    "from sklearn import svm\n",
    "from statsmodels.stats.outliers_influence import variance_inflation_factor\n",
    "import os \n",
    "os.chdir(\"/home/mahima/1.mahima/ML/Cig Tuple/SigTuple_IPL_ProblemStatement/IPL\")"
   ]
  },
  {
   "cell_type": "code",
   "execution_count": 2,
   "metadata": {},
   "outputs": [],
   "source": [
    "train=pd.read_csv(\"train.csv\")\n",
    "test=pd.read_csv(\"test.csv\")"
   ]
  },
  {
   "cell_type": "markdown",
   "metadata": {},
   "source": [
    "# DATA PREPROCESSING"
   ]
  },
  {
   "cell_type": "code",
   "execution_count": 3,
   "metadata": {},
   "outputs": [],
   "source": [
    "train=train.drop(['DateOfGame','Game ID'],axis=1)\n",
    "test=test.drop(['DateOfGame','Game ID'],axis=1)"
   ]
  },
  {
   "cell_type": "code",
   "execution_count": 4,
   "metadata": {},
   "outputs": [],
   "source": [
    "float_columns = train.select_dtypes(include=['float64']).columns\n",
    "int_columns = train.select_dtypes(include=['int64']).columns\n",
    "numeric_columns = float_columns.union(int_columns).drop(['DayOfWeek'])\n",
    "numeric_columns = numeric_columns.drop(['Winner (team 1=1, team 2=0)'])\n",
    "categorical_columns = train.select_dtypes(include=['object']).columns\n",
    "categorical_columns = categorical_columns.union(['DayOfWeek'])"
   ]
  },
  {
   "cell_type": "code",
   "execution_count": 5,
   "metadata": {},
   "outputs": [
    {
     "name": "stdout",
     "output_type": "stream",
     "text": [
      "Test missing columns {'City', 'DayOfWeek'}\n",
      "Train missing columns {'CityOfGame', 'Day'}\n"
     ]
    }
   ],
   "source": [
    "print(\"Test missing columns\",set( train.columns ) - set( test.columns ))\n",
    "print(\"Train missing columns\",set( test.columns ) - set( train.columns ))"
   ]
  },
  {
   "cell_type": "code",
   "execution_count": 6,
   "metadata": {},
   "outputs": [],
   "source": [
    "test = test.rename(columns={'Day': 'DayOfWeek', 'CityOfGame': 'City'})"
   ]
  },
  {
   "cell_type": "code",
   "execution_count": 7,
   "metadata": {},
   "outputs": [
    {
     "name": "stdout",
     "output_type": "stream",
     "text": [
      "Test missing columns set()\n",
      "Train missing columns set()\n"
     ]
    }
   ],
   "source": [
    "print(\"Test missing columns\",set( train.columns ) - set( test.columns ))\n",
    "print(\"Train missing columns\",set( test.columns ) - set( train.columns ))"
   ]
  },
  {
   "cell_type": "code",
   "execution_count": 8,
   "metadata": {},
   "outputs": [],
   "source": [
    "# for col_  in train_numeric_columns:\n",
    "#     sns.boxplot(x=train_data[col_])  "
   ]
  },
  {
   "cell_type": "code",
   "execution_count": 9,
   "metadata": {},
   "outputs": [
    {
     "data": {
      "text/plain": [
       "<matplotlib.axes._subplots.AxesSubplot at 0x7f9a38101be0>"
      ]
     },
     "execution_count": 9,
     "metadata": {},
     "output_type": "execute_result"
    },
    {
     "data": {
      "image/png": "[encoded data removed]",
      "text/plain": [
       "<Figure size 432x288 with 1 Axes>"
      ]
     },
     "metadata": {},
     "output_type": "display_data"
    }
   ],
   "source": [
    "sns.boxplot(x=train['AvgWindSpeed'])"
   ]
  },
  {
   "cell_type": "code",
   "execution_count": 10,
   "metadata": {},
   "outputs": [],
   "source": [
    "def replace_with_median(data,column):\n",
    "    quartile_1, quartile_3 = np.percentile(data[column], [25, 75])\n",
    "    iqr = quartile_3 - quartile_1\n",
    "    lower_bound = quartile_1 - (float(iqr) * 1.5)\n",
    "    upper_bound = quartile_3 + (float(iqr) * 1.5)\n",
    "    data.loc[(data[column]<lower_bound) | (data[column] > upper_bound),[column]] = data[column].median()\n",
    "    return data[column]"
   ]
  },
  {
   "cell_type": "markdown",
   "metadata": {},
   "source": [
    "Outlier Treatment"
   ]
  },
  {
   "cell_type": "code",
   "execution_count": 11,
   "metadata": {},
   "outputs": [],
   "source": [
    "for numeric_column in numeric_columns:\n",
    "    train[numeric_column] = replace_with_median(train,numeric_column)"
   ]
  },
  {
   "cell_type": "code",
   "execution_count": 12,
   "metadata": {},
   "outputs": [
    {
     "data": {
      "text/plain": [
       "<matplotlib.axes._subplots.AxesSubplot at 0x7f9a344df278>"
      ]
     },
     "execution_count": 12,
     "metadata": {},
     "output_type": "execute_result"
    },
    {
     "data": {
      "image/png": "[encoded data removed]",
      "text/plain": [
       "<Figure size 432x288 with 1 Axes>"
      ]
     },
     "metadata": {},
     "output_type": "display_data"
    }
   ],
   "source": [
    "sns.boxplot(x=train['AvgWindSpeed'])"
   ]
  },
  {
   "cell_type": "markdown",
   "metadata": {},
   "source": [
    "Normalization of train and test data"
   ]
  },
  {
   "cell_type": "code",
   "execution_count": 13,
   "metadata": {},
   "outputs": [],
   "source": [
    "min_max_scaler = preprocessing.MinMaxScaler() \n",
    "train_scaled_numeric = pd.DataFrame(min_max_scaler.fit_transform(train[numeric_columns]),columns = numeric_columns)\n",
    "test_scaled_numeric = pd.DataFrame(min_max_scaler.transform(test[numeric_columns]),columns = numeric_columns)"
   ]
  },
  {
   "cell_type": "code",
   "execution_count": 14,
   "metadata": {},
   "outputs": [],
   "source": [
    "def one_hot_encode(data,col):\n",
    "    y = pd.get_dummies(data[col],prefix=col)\n",
    "    data.drop(columns = [col],axis=1,inplace=True)\n",
    "    return y    "
   ]
  },
  {
   "cell_type": "code",
   "execution_count": 15,
   "metadata": {},
   "outputs": [],
   "source": [
    "onehotencoded_train  = pd.concat([one_hot_encode(train,col) for col in categorical_columns], axis=1) \n",
    "onehotencoded_test  = pd.concat([one_hot_encode(test,col) for col in categorical_columns], axis=1)"
   ]
  },
  {
   "cell_type": "code",
   "execution_count": 16,
   "metadata": {},
   "outputs": [],
   "source": [
    "missing_cols = set(onehotencoded_train.columns) - set( onehotencoded_test.columns )\n",
    "for c in missing_cols:\n",
    "    onehotencoded_test[c] = 0\n",
    "onehotencoded_test=onehotencoded_test[onehotencoded_train.columns]"
   ]
  },
  {
   "cell_type": "code",
   "execution_count": 17,
   "metadata": {},
   "outputs": [],
   "source": [
    "train_x = pd.concat([train_scaled_numeric,onehotencoded_train],axis=1)\n",
    "test_x = pd.concat([test_scaled_numeric,onehotencoded_test],axis=1)"
   ]
  },
  {
   "cell_type": "code",
   "execution_count": 18,
   "metadata": {},
   "outputs": [
    {
     "data": {
      "text/plain": [
       "(252, 68)"
      ]
     },
     "execution_count": 18,
     "metadata": {},
     "output_type": "execute_result"
    }
   ],
   "source": [
    "train_x.shape"
   ]
  },
  {
   "cell_type": "code",
   "execution_count": 19,
   "metadata": {},
   "outputs": [
    {
     "data": {
      "text/plain": [
       "(76, 68)"
      ]
     },
     "execution_count": 19,
     "metadata": {},
     "output_type": "execute_result"
    }
   ],
   "source": [
    "test_x.shape"
   ]
  },
  {
   "cell_type": "code",
   "execution_count": 20,
   "metadata": {},
   "outputs": [],
   "source": [
    "train_y = train[\"Winner (team 1=1, team 2=0)\"]\n",
    "test_y = test[\"Winner (team 1=1, team 2=0)\"]"
   ]
  },
  {
   "cell_type": "code",
   "execution_count": 21,
   "metadata": {},
   "outputs": [
    {
     "data": {
      "text/html": [
       "<div>\n",
       "<style scoped>\n",
       "    .dataframe tbody tr th:only-of-type {\n",
       "        vertical-align: middle;\n",
       "    }\n",
       "\n",
       "    .dataframe tbody tr th {\n",
       "        vertical-align: top;\n",
       "    }\n",
       "\n",
       "    .dataframe thead th {\n",
       "        text-align: right;\n",
       "    }\n",
       "</style>\n",
       "<table border=\"1\" class=\"dataframe\">\n",
       "  <thead>\n",
       "    <tr style=\"text-align: right;\">\n",
       "      <th></th>\n",
       "      <th>AvgHumidity</th>\n",
       "      <th>AvgWindSpeed</th>\n",
       "      <th>Inn 1 Team 1 Max Strike Rate_ALLBatsmen</th>\n",
       "      <th>Inn 1 Team 1 NOP R&lt;25, SR&gt;125</th>\n",
       "      <th>Inn 1 Team 1 NOP R&gt;25,SR&gt;125</th>\n",
       "      <th>Inn 1 Team 1 Total 4s</th>\n",
       "      <th>Inn 1 Team 1 Total 6s</th>\n",
       "      <th>Inn 1 Team 2 Extras conceded in_wides_No Balls</th>\n",
       "      <th>Inn 1 Team 2 NoP Spinners</th>\n",
       "      <th>Inn 1 Team 2 NoP fast bowlers</th>\n",
       "      <th>...</th>\n",
       "      <th>TimeOfGame_15:00:00</th>\n",
       "      <th>TimeOfGame_16:00:00</th>\n",
       "      <th>TimeOfGame_16:30:00</th>\n",
       "      <th>TimeOfGame_16:45:00</th>\n",
       "      <th>TimeOfGame_17:00:00</th>\n",
       "      <th>TimeOfGame_17:10:00</th>\n",
       "      <th>TimeOfGame_18:50:00</th>\n",
       "      <th>TimeOfGame_20:00:00</th>\n",
       "      <th>TimeOfGame_20:15:00</th>\n",
       "      <th>TimeOfGame_20:30:00</th>\n",
       "    </tr>\n",
       "  </thead>\n",
       "  <tbody>\n",
       "    <tr>\n",
       "      <th>0</th>\n",
       "      <td>0.277778</td>\n",
       "      <td>0.375</td>\n",
       "      <td>0.559663</td>\n",
       "      <td>0.333333</td>\n",
       "      <td>0.333333</td>\n",
       "      <td>0.523810</td>\n",
       "      <td>0.384615</td>\n",
       "      <td>0.692308</td>\n",
       "      <td>0.333333</td>\n",
       "      <td>0.666667</td>\n",
       "      <td>...</td>\n",
       "      <td>0</td>\n",
       "      <td>0</td>\n",
       "      <td>0</td>\n",
       "      <td>0</td>\n",
       "      <td>0</td>\n",
       "      <td>0</td>\n",
       "      <td>0</td>\n",
       "      <td>1</td>\n",
       "      <td>0</td>\n",
       "      <td>0</td>\n",
       "    </tr>\n",
       "    <tr>\n",
       "      <th>1</th>\n",
       "      <td>0.185185</td>\n",
       "      <td>0.500</td>\n",
       "      <td>0.705363</td>\n",
       "      <td>0.666667</td>\n",
       "      <td>1.000000</td>\n",
       "      <td>0.761905</td>\n",
       "      <td>0.384615</td>\n",
       "      <td>0.307692</td>\n",
       "      <td>0.333333</td>\n",
       "      <td>1.000000</td>\n",
       "      <td>...</td>\n",
       "      <td>0</td>\n",
       "      <td>0</td>\n",
       "      <td>0</td>\n",
       "      <td>0</td>\n",
       "      <td>1</td>\n",
       "      <td>0</td>\n",
       "      <td>0</td>\n",
       "      <td>0</td>\n",
       "      <td>0</td>\n",
       "      <td>0</td>\n",
       "    </tr>\n",
       "  </tbody>\n",
       "</table>\n",
       "<p>2 rows × 68 columns</p>\n",
       "</div>"
      ],
      "text/plain": [
       "   AvgHumidity  AvgWindSpeed  Inn 1 Team 1 Max Strike Rate_ALLBatsmen  \\\n",
       "0     0.277778         0.375                                 0.559663   \n",
       "1     0.185185         0.500                                 0.705363   \n",
       "\n",
       "   Inn 1 Team 1 NOP R<25, SR>125  Inn 1 Team 1 NOP R>25,SR>125  \\\n",
       "0                       0.333333                      0.333333   \n",
       "1                       0.666667                      1.000000   \n",
       "\n",
       "   Inn 1 Team 1 Total 4s  Inn 1 Team 1 Total 6s  \\\n",
       "0               0.523810               0.384615   \n",
       "1               0.761905               0.384615   \n",
       "\n",
       "   Inn 1 Team 2 Extras conceded in_wides_No Balls  Inn 1 Team 2 NoP Spinners  \\\n",
       "0                                        0.692308                   0.333333   \n",
       "1                                        0.307692                   0.333333   \n",
       "\n",
       "   Inn 1 Team 2 NoP fast bowlers         ...           TimeOfGame_15:00:00  \\\n",
       "0                       0.666667         ...                             0   \n",
       "1                       1.000000         ...                             0   \n",
       "\n",
       "   TimeOfGame_16:00:00  TimeOfGame_16:30:00  TimeOfGame_16:45:00  \\\n",
       "0                    0                    0                    0   \n",
       "1                    0                    0                    0   \n",
       "\n",
       "   TimeOfGame_17:00:00  TimeOfGame_17:10:00  TimeOfGame_18:50:00  \\\n",
       "0                    0                    0                    0   \n",
       "1                    1                    0                    0   \n",
       "\n",
       "   TimeOfGame_20:00:00  TimeOfGame_20:15:00  TimeOfGame_20:30:00  \n",
       "0                    1                    0                    0  \n",
       "1                    0                    0                    0  \n",
       "\n",
       "[2 rows x 68 columns]"
      ]
     },
     "execution_count": 21,
     "metadata": {},
     "output_type": "execute_result"
    }
   ],
   "source": [
    "train_x.head(2)"
   ]
  },
  {
   "cell_type": "code",
   "execution_count": 22,
   "metadata": {},
   "outputs": [
    {
     "data": {
      "text/html": [
       "<div>\n",
       "<style scoped>\n",
       "    .dataframe tbody tr th:only-of-type {\n",
       "        vertical-align: middle;\n",
       "    }\n",
       "\n",
       "    .dataframe tbody tr th {\n",
       "        vertical-align: top;\n",
       "    }\n",
       "\n",
       "    .dataframe thead th {\n",
       "        text-align: right;\n",
       "    }\n",
       "</style>\n",
       "<table border=\"1\" class=\"dataframe\">\n",
       "  <thead>\n",
       "    <tr style=\"text-align: right;\">\n",
       "      <th></th>\n",
       "      <th>AvgHumidity</th>\n",
       "      <th>AvgWindSpeed</th>\n",
       "      <th>Inn 1 Team 1 Max Strike Rate_ALLBatsmen</th>\n",
       "      <th>Inn 1 Team 1 NOP R&lt;25, SR&gt;125</th>\n",
       "      <th>Inn 1 Team 1 NOP R&gt;25,SR&gt;125</th>\n",
       "      <th>Inn 1 Team 1 Total 4s</th>\n",
       "      <th>Inn 1 Team 1 Total 6s</th>\n",
       "      <th>Inn 1 Team 2 Extras conceded in_wides_No Balls</th>\n",
       "      <th>Inn 1 Team 2 NoP Spinners</th>\n",
       "      <th>Inn 1 Team 2 NoP fast bowlers</th>\n",
       "      <th>...</th>\n",
       "      <th>TimeOfGame_15:00:00</th>\n",
       "      <th>TimeOfGame_16:00:00</th>\n",
       "      <th>TimeOfGame_16:30:00</th>\n",
       "      <th>TimeOfGame_16:45:00</th>\n",
       "      <th>TimeOfGame_17:00:00</th>\n",
       "      <th>TimeOfGame_17:10:00</th>\n",
       "      <th>TimeOfGame_18:50:00</th>\n",
       "      <th>TimeOfGame_20:00:00</th>\n",
       "      <th>TimeOfGame_20:15:00</th>\n",
       "      <th>TimeOfGame_20:30:00</th>\n",
       "    </tr>\n",
       "  </thead>\n",
       "  <tbody>\n",
       "    <tr>\n",
       "      <th>0</th>\n",
       "      <td>0.518519</td>\n",
       "      <td>0.250</td>\n",
       "      <td>0.233994</td>\n",
       "      <td>0.333333</td>\n",
       "      <td>0.333333</td>\n",
       "      <td>0.095238</td>\n",
       "      <td>0.076923</td>\n",
       "      <td>0.538462</td>\n",
       "      <td>0.333333</td>\n",
       "      <td>0.666667</td>\n",
       "      <td>...</td>\n",
       "      <td>0</td>\n",
       "      <td>0</td>\n",
       "      <td>0</td>\n",
       "      <td>0</td>\n",
       "      <td>0</td>\n",
       "      <td>0</td>\n",
       "      <td>0</td>\n",
       "      <td>1</td>\n",
       "      <td>0</td>\n",
       "      <td>0</td>\n",
       "    </tr>\n",
       "    <tr>\n",
       "      <th>1</th>\n",
       "      <td>0.592593</td>\n",
       "      <td>0.375</td>\n",
       "      <td>0.479116</td>\n",
       "      <td>1.000000</td>\n",
       "      <td>0.333333</td>\n",
       "      <td>0.095238</td>\n",
       "      <td>0.384615</td>\n",
       "      <td>0.153846</td>\n",
       "      <td>0.500000</td>\n",
       "      <td>0.333333</td>\n",
       "      <td>...</td>\n",
       "      <td>0</td>\n",
       "      <td>0</td>\n",
       "      <td>0</td>\n",
       "      <td>0</td>\n",
       "      <td>0</td>\n",
       "      <td>0</td>\n",
       "      <td>0</td>\n",
       "      <td>1</td>\n",
       "      <td>0</td>\n",
       "      <td>0</td>\n",
       "    </tr>\n",
       "  </tbody>\n",
       "</table>\n",
       "<p>2 rows × 68 columns</p>\n",
       "</div>"
      ],
      "text/plain": [
       "   AvgHumidity  AvgWindSpeed  Inn 1 Team 1 Max Strike Rate_ALLBatsmen  \\\n",
       "0     0.518519         0.250                                 0.233994   \n",
       "1     0.592593         0.375                                 0.479116   \n",
       "\n",
       "   Inn 1 Team 1 NOP R<25, SR>125  Inn 1 Team 1 NOP R>25,SR>125  \\\n",
       "0                       0.333333                      0.333333   \n",
       "1                       1.000000                      0.333333   \n",
       "\n",
       "   Inn 1 Team 1 Total 4s  Inn 1 Team 1 Total 6s  \\\n",
       "0               0.095238               0.076923   \n",
       "1               0.095238               0.384615   \n",
       "\n",
       "   Inn 1 Team 2 Extras conceded in_wides_No Balls  Inn 1 Team 2 NoP Spinners  \\\n",
       "0                                        0.538462                   0.333333   \n",
       "1                                        0.153846                   0.500000   \n",
       "\n",
       "   Inn 1 Team 2 NoP fast bowlers         ...           TimeOfGame_15:00:00  \\\n",
       "0                       0.666667         ...                             0   \n",
       "1                       0.333333         ...                             0   \n",
       "\n",
       "   TimeOfGame_16:00:00  TimeOfGame_16:30:00  TimeOfGame_16:45:00  \\\n",
       "0                    0                    0                    0   \n",
       "1                    0                    0                    0   \n",
       "\n",
       "   TimeOfGame_17:00:00  TimeOfGame_17:10:00  TimeOfGame_18:50:00  \\\n",
       "0                    0                    0                    0   \n",
       "1                    0                    0                    0   \n",
       "\n",
       "   TimeOfGame_20:00:00  TimeOfGame_20:15:00  TimeOfGame_20:30:00  \n",
       "0                    1                    0                    0  \n",
       "1                    1                    0                    0  \n",
       "\n",
       "[2 rows x 68 columns]"
      ]
     },
     "execution_count": 22,
     "metadata": {},
     "output_type": "execute_result"
    }
   ],
   "source": [
    "test_x.head(2)"
   ]
  },
  {
   "cell_type": "markdown",
   "metadata": {},
   "source": [
    "# MODEL BUILDING"
   ]
  },
  {
   "cell_type": "markdown",
   "metadata": {},
   "source": [
    "## Support Vector Machine"
   ]
  },
  {
   "cell_type": "code",
   "execution_count": 23,
   "metadata": {},
   "outputs": [
    {
     "name": "stdout",
     "output_type": "stream",
     "text": [
      "Train AUC :  0.9552424765190722\n",
      "Test AUC :  0.9145658263305322\n"
     ]
    }
   ],
   "source": [
    "clf = svm.SVC(kernel='linear') \n",
    "clf.fit(train_x, train_y) \n",
    "pred_svm_1=clf.predict(train_x)\n",
    "pred_svm_2=clf.predict(test_x)\n",
    "fpr, tpr, threshold= metrics.roc_curve(train_y, pred_svm_1)\n",
    "AUC= metrics.auc(fpr,tpr) # to get the area under the Curve\n",
    "print(\"Train AUC : \",AUC)\n",
    "fpr, tpr, threshold= metrics.roc_curve(test_y, pred_svm_2)\n",
    "AUC= metrics.auc(fpr,tpr) # to get the area under the Curve\n",
    "print(\"Test AUC : \",AUC)"
   ]
  },
  {
   "cell_type": "markdown",
   "metadata": {},
   "source": [
    "# Random Forest Classifier"
   ]
  },
  {
   "cell_type": "code",
   "execution_count": 24,
   "metadata": {},
   "outputs": [
    {
     "name": "stdout",
     "output_type": "stream",
     "text": [
      "Train AUC :  1.0\n",
      "Test AUC :  0.8403361344537815\n"
     ]
    }
   ],
   "source": [
    "classifier = RandomForestClassifier(n_estimators=20, random_state=0)  \n",
    "classifier.fit(train_x, train_y)  \n",
    "pred_RF_1 = classifier.predict(train_x)\n",
    "pred_RF_2 = classifier.predict(test_x)\n",
    "fpr, tpr, threshold= metrics.roc_curve(train_y, pred_RF_1)\n",
    "AUC= metrics.auc(fpr,tpr) # to get the area under the Curve\n",
    "print(\"Train AUC : \",AUC)\n",
    "fpr, tpr, threshold= metrics.roc_curve(test_y, pred_RF_2)\n",
    "AUC= metrics.auc(fpr,tpr) # to get the area under the Curve\n",
    "print(\"Test AUC : \",AUC)"
   ]
  },
  {
   "cell_type": "markdown",
   "metadata": {},
   "source": [
    "# Logistic Regression"
   ]
  },
  {
   "cell_type": "markdown",
   "metadata": {},
   "source": [
    "First Treating multicollinearity using Rank of Matrix"
   ]
  },
  {
   "cell_type": "code",
   "execution_count": 25,
   "metadata": {},
   "outputs": [
    {
     "name": "stdout",
     "output_type": "stream",
     "text": [
      "Dropping due to multicollinearity DayOfWeek_7\n",
      "Dropping due to multicollinearity Team 1_Whitefield Water Loggers \n",
      "Dropping due to multicollinearity Team 2_Whitefield Water Loggers \n",
      "Dropping due to multicollinearity TimeOfGame_20:30:00\n"
     ]
    }
   ],
   "source": [
    "i = 1\n",
    "while(i <= train_x.shape[1]):\n",
    "    #print(train_x.columns[i-1])\n",
    "    if matrix_rank(train_x.iloc[:,:i])!=i:\n",
    "        print(\"Dropping due to multicollinearity\",train_x.columns[i-1]) \n",
    "        train_x.drop(train_x.columns[i-1], axis=1,inplace=True) \n",
    "        test_x.drop(test_x.columns[i-1], axis=1,inplace=True)         \n",
    "    else:\n",
    "        i = i+1     "
   ]
  },
  {
   "cell_type": "markdown",
   "metadata": {},
   "source": [
    "multicollinearity led to dropping 4 columns"
   ]
  },
  {
   "cell_type": "code",
   "execution_count": 26,
   "metadata": {},
   "outputs": [
    {
     "data": {
      "text/plain": [
       "((252, 64), (76, 64))"
      ]
     },
     "execution_count": 26,
     "metadata": {},
     "output_type": "execute_result"
    }
   ],
   "source": [
    "train_x.shape, test_x.shape"
   ]
  },
  {
   "cell_type": "markdown",
   "metadata": {},
   "source": [
    "VIF for the columns is checked and ones having VIF>10 are dropped. in case above has not properly dropped all the columns"
   ]
  },
  {
   "cell_type": "code",
   "execution_count": 27,
   "metadata": {},
   "outputs": [],
   "source": [
    "vif = pd.DataFrame()\n",
    "vif[\"VIF Factor\"] = [variance_inflation_factor(train_x.values, i) for i in range(train_x.shape[1])]\n",
    "vif[\"features\"] = train_x.columns"
   ]
  },
  {
   "cell_type": "code",
   "execution_count": 28,
   "metadata": {},
   "outputs": [],
   "source": [
    "col_with_VIF_morethan10=vif.loc[vif['VIF Factor']>10]['features'].tolist()"
   ]
  },
  {
   "cell_type": "code",
   "execution_count": 29,
   "metadata": {},
   "outputs": [
    {
     "data": {
      "text/html": [
       "<div>\n",
       "<style scoped>\n",
       "    .dataframe tbody tr th:only-of-type {\n",
       "        vertical-align: middle;\n",
       "    }\n",
       "\n",
       "    .dataframe tbody tr th {\n",
       "        vertical-align: top;\n",
       "    }\n",
       "\n",
       "    .dataframe thead th {\n",
       "        text-align: right;\n",
       "    }\n",
       "</style>\n",
       "<table border=\"1\" class=\"dataframe\">\n",
       "  <thead>\n",
       "    <tr style=\"text-align: right;\">\n",
       "      <th></th>\n",
       "      <th>VIF Factor</th>\n",
       "      <th>features</th>\n",
       "    </tr>\n",
       "  </thead>\n",
       "  <tbody>\n",
       "    <tr>\n",
       "      <th>22</th>\n",
       "      <td>26.484393</td>\n",
       "      <td>City_Bellandur</td>\n",
       "    </tr>\n",
       "    <tr>\n",
       "      <th>23</th>\n",
       "      <td>37.393667</td>\n",
       "      <td>City_Electronic City</td>\n",
       "    </tr>\n",
       "    <tr>\n",
       "      <th>24</th>\n",
       "      <td>39.314939</td>\n",
       "      <td>City_Indranagar</td>\n",
       "    </tr>\n",
       "    <tr>\n",
       "      <th>25</th>\n",
       "      <td>55.375459</td>\n",
       "      <td>City_Koramangala</td>\n",
       "    </tr>\n",
       "    <tr>\n",
       "      <th>26</th>\n",
       "      <td>69.053948</td>\n",
       "      <td>City_Marathalli</td>\n",
       "    </tr>\n",
       "    <tr>\n",
       "      <th>27</th>\n",
       "      <td>57.801206</td>\n",
       "      <td>City_Sarjapur</td>\n",
       "    </tr>\n",
       "    <tr>\n",
       "      <th>28</th>\n",
       "      <td>35.877756</td>\n",
       "      <td>City_Silkboard</td>\n",
       "    </tr>\n",
       "    <tr>\n",
       "      <th>29</th>\n",
       "      <td>45.775311</td>\n",
       "      <td>City_Whitefield</td>\n",
       "    </tr>\n",
       "    <tr>\n",
       "      <th>54</th>\n",
       "      <td>13.739256</td>\n",
       "      <td>TimeOfGame_12:30:00</td>\n",
       "    </tr>\n",
       "    <tr>\n",
       "      <th>56</th>\n",
       "      <td>29.002605</td>\n",
       "      <td>TimeOfGame_16:00:00</td>\n",
       "    </tr>\n",
       "    <tr>\n",
       "      <th>57</th>\n",
       "      <td>15.589723</td>\n",
       "      <td>TimeOfGame_16:30:00</td>\n",
       "    </tr>\n",
       "    <tr>\n",
       "      <th>62</th>\n",
       "      <td>40.858103</td>\n",
       "      <td>TimeOfGame_20:00:00</td>\n",
       "    </tr>\n",
       "  </tbody>\n",
       "</table>\n",
       "</div>"
      ],
      "text/plain": [
       "    VIF Factor              features\n",
       "22   26.484393        City_Bellandur\n",
       "23   37.393667  City_Electronic City\n",
       "24   39.314939       City_Indranagar\n",
       "25   55.375459      City_Koramangala\n",
       "26   69.053948       City_Marathalli\n",
       "27   57.801206         City_Sarjapur\n",
       "28   35.877756        City_Silkboard\n",
       "29   45.775311       City_Whitefield\n",
       "54   13.739256   TimeOfGame_12:30:00\n",
       "56   29.002605   TimeOfGame_16:00:00\n",
       "57   15.589723   TimeOfGame_16:30:00\n",
       "62   40.858103   TimeOfGame_20:00:00"
      ]
     },
     "execution_count": 29,
     "metadata": {},
     "output_type": "execute_result"
    }
   ],
   "source": [
    "vif.loc[vif['VIF Factor']>10]"
   ]
  },
  {
   "cell_type": "code",
   "execution_count": 30,
   "metadata": {},
   "outputs": [],
   "source": [
    "train_x.drop(col_with_VIF_morethan10,inplace=True,axis=1)\n",
    "test_x=test_x[train_x.columns]"
   ]
  },
  {
   "cell_type": "code",
   "execution_count": 31,
   "metadata": {},
   "outputs": [
    {
     "data": {
      "text/plain": [
       "(252, 52)"
      ]
     },
     "execution_count": 31,
     "metadata": {},
     "output_type": "execute_result"
    }
   ],
   "source": [
    "train_x.shape"
   ]
  },
  {
   "cell_type": "code",
   "execution_count": 32,
   "metadata": {},
   "outputs": [],
   "source": [
    "pd.concat([train_x,train_y],axis=1).to_csv(\"TrainFinal.csv\",index=False)\n",
    "pd.concat([test_x,test_y],axis=1).to_csv(\"TestFinal.csv\",index=False)"
   ]
  },
  {
   "cell_type": "markdown",
   "metadata": {},
   "source": [
    "Summary of the results is obtained. The ones having p value<0.05 can be removed and then the rest of data can be fed to the model."
   ]
  },
  {
   "cell_type": "code",
   "execution_count": 33,
   "metadata": {},
   "outputs": [
    {
     "name": "stdout",
     "output_type": "stream",
     "text": [
      "Warning: Maximum number of iterations has been exceeded.\n",
      "         Current function value: 0.101866\n",
      "         Iterations: 35\n",
      "         Function evaluations: 36\n",
      "         Gradient evaluations: 36\n",
      "                           Logit Regression Results                           \n",
      "==============================================================================\n",
      "Dep. Variable:                      y   No. Observations:                  252\n",
      "Model:                          Logit   Df Residuals:                      199\n",
      "Method:                           MLE   Df Model:                           52\n",
      "Date:                Thu, 21 Mar 2019   Pseudo R-squ.:                  0.8515\n",
      "Time:                        23:41:52   Log-Likelihood:                -25.670\n",
      "converged:                      False   LL-Null:                       -172.88\n",
      "                                        LLR p-value:                 1.427e-35\n",
      "====================================================================================================================================\n",
      "                                                                       coef    std err          z      P>|z|      [0.025      0.975]\n",
      "------------------------------------------------------------------------------------------------------------------------------------\n",
      "const                                                               -1.4915      8.174     -0.182      0.855     -17.513      14.529\n",
      "AvgHumidity                                                         -2.4477      4.636     -0.528      0.598     -11.535       6.640\n",
      "AvgWindSpeed                                                        -1.6970      4.994     -0.340      0.734     -11.486       8.092\n",
      "Inn 1 Team 1 Max Strike Rate_ALLBatsmen                              0.9865      3.016      0.327      0.744      -4.925       6.898\n",
      "Inn 1 Team 1 NOP R<25, SR>125                                        3.1675      2.651      1.195      0.232      -2.029       8.364\n",
      "Inn 1 Team 1 NOP R>25,SR>125                                         5.8419      2.904      2.012      0.044       0.150      11.534\n",
      "Inn 1 Team 1 Total 4s                                                4.2401      3.752      1.130      0.258      -3.114      11.595\n",
      "Inn 1 Team 1 Total 6s                                                4.7652      4.131      1.153      0.249      -3.332      12.862\n",
      "Inn 1 Team 2 Extras conceded in_wides_No Balls                      -1.8930      2.785     -0.680      0.497      -7.352       3.566\n",
      "Inn 1 Team 2 NoP Spinners                                           -0.1523      6.335     -0.024      0.981     -12.568      12.263\n",
      "Inn 1 Team 2 NoP fast bowlers                                       -1.4854      3.524     -0.421      0.673      -8.392       5.422\n",
      "Inn 1 Team 2 wickets taken_catches_runout                           -2.0986      3.633     -0.578      0.564      -9.219       5.022\n",
      "Inn 2 Team 1 Extras conceded in_wides_No Balls                      -2.7534      3.620     -0.761      0.447      -9.848       4.341\n",
      "Inn 2 Team 1 NoP Spinners                                           -1.5488      5.362     -0.289      0.773     -12.057       8.960\n",
      "Inn 2 Team 1 NoP fast bowlers                                       -0.5390      3.791     -0.142      0.887      -7.969       6.891\n",
      "Inn 2 Team 1 wickets taken_catches_runout                           17.3695      5.020      3.460      0.001       7.531      27.208\n",
      "Inn 2 Team 2 Max Strike Rate_ALLBatsmen                             -5.6064      3.429     -1.635      0.102     -12.327       1.115\n",
      "Inn 2 Team 2 NOP R<25, SR>125                                        0.9200      3.078      0.299      0.765      -5.112       6.952\n",
      "Inn 2 Team 2 NOP R>25,SR>125                                        -3.0875      2.664     -1.159      0.246      -8.309       2.134\n",
      "Inn 2 Team 2 Total 4s                                               -6.3188      4.789     -1.320      0.187     -15.704       3.067\n",
      "Inn 2 Team 2 Total 6s                                               -5.3060      3.320     -1.598      0.110     -11.813       1.201\n",
      "Inn1 Team 2 wickets taken_ bowled _lbw_caught by keeper_stumping    -3.3839      3.817     -0.887      0.375     -10.865       4.097\n",
      "Inn2 Team 1 wickets taken_ bowled _lbw_caught by keeper_stumping    10.0509      3.567      2.817      0.005       3.059      17.043\n",
      "DayOfWeek_1                                                          2.0183      2.484      0.812      0.417      -2.851       6.888\n",
      "DayOfWeek_2                                                         -0.4302      2.865     -0.150      0.881      -6.045       5.184\n",
      "DayOfWeek_3                                                         -1.8491      2.269     -0.815      0.415      -6.297       2.598\n",
      "DayOfWeek_4                                                         -1.6451      2.237     -0.736      0.462      -6.029       2.739\n",
      "DayOfWeek_5                                                         -2.1855      2.402     -0.910      0.363      -6.893       2.522\n",
      "DayOfWeek_6                                                         -1.7142      2.484     -0.690      0.490      -6.584       3.155\n",
      "Team 1_Airport Flyers                                               -0.4501      5.009     -0.090      0.928     -10.268       9.368\n",
      "Team 1_Bellandur Froth Fighters                                     -1.3791      2.594     -0.532      0.595      -6.464       3.706\n",
      "Team 1_Electronic City Power Savers                                  0.9716      2.713      0.358      0.720      -4.346       6.290\n",
      "Team 1_Forum Fans                                                   -2.0478      9.524     -0.215      0.830     -20.714      16.619\n",
      "Team 1_Indranagar Pub Watchers                                       0.2451      3.610      0.068      0.946      -6.830       7.320\n",
      "Team 1_Koramangala Traffic Jammers                                  -0.1467      2.711     -0.054      0.957      -5.461       5.167\n",
      "Team 1_Marathalli Chokers                                            1.3010      2.981      0.436      0.663      -4.542       7.144\n",
      "Team 1_Sarjapur Water Tankers                                       -0.6239      2.612     -0.239      0.811      -5.744       4.496\n",
      "Team 1_Silkboard Slow Movers                                        -0.0024      3.037     -0.001      0.999      -5.955       5.950\n",
      "Team 2_Airport Flyers                                                1.2320      2.722      0.453      0.651      -4.104       6.568\n",
      "Team 2_Bellandur Froth Fighters                                      0.9398      2.457      0.382      0.702      -3.877       5.756\n",
      "Team 2_Electronic City Power Savers                                 -0.7748      2.377     -0.326      0.744      -5.433       3.883\n",
      "Team 2_Forum Fans                                                    0.7057      5.673      0.124      0.901     -10.413      11.824\n",
      "Team 2_Indranagar Pub Watchers                                      -0.9711      2.452     -0.396      0.692      -5.776       3.834\n",
      "Team 2_Koramangala Traffic Jammers                                  -1.0784      2.378     -0.453      0.650      -5.740       3.583\n",
      "Team 2_Marathalli Chokers                                            2.0868      2.892      0.722      0.470      -3.581       7.754\n",
      "Team 2_Sarjapur Water Tankers                                       -2.1027      2.422     -0.868      0.385      -6.851       2.645\n",
      "Team 2_Silkboard Slow Movers                                         0.2822      2.299      0.123      0.902      -4.224       4.789\n",
      "TimeOfGame_15:00:00                                                  0.7632      3.843      0.199      0.843      -6.770       8.296\n",
      "TimeOfGame_16:45:00                                                  0.4445      2.263      0.196      0.844      -3.991       4.880\n",
      "TimeOfGame_17:00:00                                                  1.6740      5.941      0.282      0.778      -9.971      13.319\n",
      "TimeOfGame_17:10:00                                                  0.4238    347.243      0.001      0.999    -680.159     681.007\n",
      "TimeOfGame_18:50:00                                                 -0.2624    169.201     -0.002      0.999    -331.891     331.366\n",
      "TimeOfGame_20:15:00                                                 -1.2320      4.789     -0.257      0.797     -10.619       8.155\n",
      "====================================================================================================================================\n",
      "\n",
      "Possibly complete quasi-separation: A fraction 0.30 of observations can be\n",
      "perfectly predicted. This might indicate that there is complete\n",
      "quasi-separation. In this case some parameters will not be identified.\n"
     ]
    },
    {
     "name": "stderr",
     "output_type": "stream",
     "text": [
      "/root/anaconda3/lib/python3.6/site-packages/statsmodels/base/model.py:508: ConvergenceWarning: Maximum Likelihood optimization failed to converge. Check mle_retvals\n",
      "  \"Check mle_retvals\", ConvergenceWarning)\n"
     ]
    }
   ],
   "source": [
    "X2 = add_constant(train_x)\n",
    "logit = sm.Logit(list(train_y), X2)\n",
    "result = logit.fit(method='bfgs')\n",
    "print(result.summary())"
   ]
  },
  {
   "cell_type": "markdown",
   "metadata": {},
   "source": [
    "Working with Logistic Regression"
   ]
  },
  {
   "cell_type": "code",
   "execution_count": 34,
   "metadata": {},
   "outputs": [
    {
     "data": {
      "text/html": [
       "<div>\n",
       "<style scoped>\n",
       "    .dataframe tbody tr th:only-of-type {\n",
       "        vertical-align: middle;\n",
       "    }\n",
       "\n",
       "    .dataframe tbody tr th {\n",
       "        vertical-align: top;\n",
       "    }\n",
       "\n",
       "    .dataframe thead th {\n",
       "        text-align: right;\n",
       "    }\n",
       "</style>\n",
       "<table border=\"1\" class=\"dataframe\">\n",
       "  <thead>\n",
       "    <tr style=\"text-align: right;\">\n",
       "      <th>col_0</th>\n",
       "      <th>0</th>\n",
       "      <th>1</th>\n",
       "    </tr>\n",
       "    <tr>\n",
       "      <th>Winner (team 1=1, team 2=0)</th>\n",
       "      <th></th>\n",
       "      <th></th>\n",
       "    </tr>\n",
       "  </thead>\n",
       "  <tbody>\n",
       "    <tr>\n",
       "      <th>0</th>\n",
       "      <td>141</td>\n",
       "      <td>0</td>\n",
       "    </tr>\n",
       "    <tr>\n",
       "      <th>1</th>\n",
       "      <td>0</td>\n",
       "      <td>111</td>\n",
       "    </tr>\n",
       "  </tbody>\n",
       "</table>\n",
       "</div>"
      ],
      "text/plain": [
       "col_0                          0    1\n",
       "Winner (team 1=1, team 2=0)          \n",
       "0                            141    0\n",
       "1                              0  111"
      ]
     },
     "execution_count": 34,
     "metadata": {},
     "output_type": "execute_result"
    }
   ],
   "source": [
    "log_reg=LogisticRegression(C = 1e9,class_weight = 'balanced')  \n",
    "log_reg.fit(train_x,train_y)\n",
    "pred_train=log_reg.predict(train_x)\n",
    "pd.crosstab(train_y,pred_train)"
   ]
  },
  {
   "cell_type": "code",
   "execution_count": 35,
   "metadata": {},
   "outputs": [
    {
     "data": {
      "text/html": [
       "<div>\n",
       "<style scoped>\n",
       "    .dataframe tbody tr th:only-of-type {\n",
       "        vertical-align: middle;\n",
       "    }\n",
       "\n",
       "    .dataframe tbody tr th {\n",
       "        vertical-align: top;\n",
       "    }\n",
       "\n",
       "    .dataframe thead th {\n",
       "        text-align: right;\n",
       "    }\n",
       "</style>\n",
       "<table border=\"1\" class=\"dataframe\">\n",
       "  <thead>\n",
       "    <tr style=\"text-align: right;\">\n",
       "      <th>col_0</th>\n",
       "      <th>0</th>\n",
       "      <th>1</th>\n",
       "    </tr>\n",
       "    <tr>\n",
       "      <th>Winner (team 1=1, team 2=0)</th>\n",
       "      <th></th>\n",
       "      <th></th>\n",
       "    </tr>\n",
       "  </thead>\n",
       "  <tbody>\n",
       "    <tr>\n",
       "      <th>0</th>\n",
       "      <td>38</td>\n",
       "      <td>4</td>\n",
       "    </tr>\n",
       "    <tr>\n",
       "      <th>1</th>\n",
       "      <td>6</td>\n",
       "      <td>28</td>\n",
       "    </tr>\n",
       "  </tbody>\n",
       "</table>\n",
       "</div>"
      ],
      "text/plain": [
       "col_0                         0   1\n",
       "Winner (team 1=1, team 2=0)        \n",
       "0                            38   4\n",
       "1                             6  28"
      ]
     },
     "execution_count": 35,
     "metadata": {},
     "output_type": "execute_result"
    }
   ],
   "source": [
    "pred_test=log_reg.predict(test_x)\n",
    "pd.crosstab(test_y,pred_test)"
   ]
  },
  {
   "cell_type": "code",
   "execution_count": 36,
   "metadata": {},
   "outputs": [
    {
     "name": "stdout",
     "output_type": "stream",
     "text": [
      "Train AUC:  1.0\n"
     ]
    },
    {
     "name": "stderr",
     "output_type": "stream",
     "text": [
      "/root/anaconda3/lib/python3.6/site-packages/matplotlib/cbook/deprecation.py:107: MatplotlibDeprecationWarning: Adding an axes using the same arguments as a previous axes currently reuses the earlier instance.  In a future version, a new instance will always be created and returned.  Meanwhile, this warning can be suppressed, and the future behavior ensured, by passing a unique label to each axes instance.\n",
      "  warnings.warn(message, mplDeprecation, stacklevel=1)\n"
     ]
    },
    {
     "data": {
      "image/png": "[encoded data removed]",
      "text/plain": [
       "<Figure size 432x288 with 1 Axes>"
      ]
     },
     "metadata": {},
     "output_type": "display_data"
    }
   ],
   "source": [
    "pred_train=log_reg.predict_proba(train_x)\n",
    "fpr, tpr, threshold= metrics.roc_curve(train_y, pred_train[:,1]) \n",
    "plt.plot(fpr, tpr, label='ROC curve', color='b')\n",
    "plt.axes().set_aspect('equal')\n",
    "plt.xlim([-0.05, 1.05])\n",
    "plt.ylim([-0.05, 1.05])\n",
    "AUC= metrics.auc(fpr,tpr) \n",
    "print(\"Train AUC: \",AUC)"
   ]
  },
  {
   "cell_type": "code",
   "execution_count": 39,
   "metadata": {},
   "outputs": [
    {
     "name": "stdout",
     "output_type": "stream",
     "text": [
      "Test AUC 0.9313725490196079\n"
     ]
    },
    {
     "name": "stderr",
     "output_type": "stream",
     "text": [
      "/root/anaconda3/lib/python3.6/site-packages/matplotlib/cbook/deprecation.py:107: MatplotlibDeprecationWarning: Adding an axes using the same arguments as a previous axes currently reuses the earlier instance.  In a future version, a new instance will always be created and returned.  Meanwhile, this warning can be suppressed, and the future behavior ensured, by passing a unique label to each axes instance.\n",
      "  warnings.warn(message, mplDeprecation, stacklevel=1)\n"
     ]
    },
    {
     "data": {
      "image/png": "[encoded data removed]",
      "text/plain": [
       "<Figure size 432x288 with 1 Axes>"
      ]
     },
     "metadata": {},
     "output_type": "display_data"
    }
   ],
   "source": [
    "pred_test=log_reg.predict_proba(test_x)\n",
    "fpr, tpr, threshold= metrics.roc_curve(test_y, pred_test[:,1])  \n",
    "plt.plot(fpr, tpr, label='ROC curve', color='b')\n",
    "plt.axes().set_aspect('equal')\n",
    "plt.xlim([-0.05, 1.05])\n",
    "plt.ylim([-0.05, 1.05])\n",
    "AUC= metrics.auc(fpr,tpr)\n",
    "print(\"Test AUC\",AUC) "
   ]
  },
  {
   "cell_type": "markdown",
   "metadata": {},
   "source": [
    "We need to remove these multicollinear columns for LR, in SVM and random forest we don't need that"
   ]
  }
 ],
 "metadata": {
  "kernelspec": {
   "display_name": "Python 3",
   "language": "python",
   "name": "python3"
  },
  "language_info": {
   "codemirror_mode": {
    "name": "ipython",
    "version": 3
   },
   "file_extension": ".py",
   "mimetype": "text/x-python",
   "name": "python",
   "nbconvert_exporter": "python",
   "pygments_lexer": "ipython3",
   "version": "3.6.5"
  }
 },
 "nbformat": 4,
 "nbformat_minor": 2
}
